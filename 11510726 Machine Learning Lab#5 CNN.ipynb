{
 "cells": [
  {
   "cell_type": "markdown",
   "metadata": {},
   "source": [
    "## Machine Learning Lab 4 CNN\n",
    "### 11510726 毛煦冰"
   ]
  },
  {
   "cell_type": "code",
   "execution_count": 1,
   "metadata": {},
   "outputs": [
    {
     "name": "stderr",
     "output_type": "stream",
     "text": [
      "/anaconda3/lib/python3.6/site-packages/h5py/__init__.py:36: FutureWarning: Conversion of the second argument of issubdtype from `float` to `np.floating` is deprecated. In future, it will be treated as `np.float64 == np.dtype(float).type`.\n",
      "  from ._conv import register_converters as _register_converters\n"
     ]
    },
    {
     "name": "stdout",
     "output_type": "stream",
     "text": [
      "WARNING:tensorflow:From <ipython-input-1-ec7491b4d2f1>:4: read_data_sets (from tensorflow.contrib.learn.python.learn.datasets.mnist) is deprecated and will be removed in a future version.\n",
      "Instructions for updating:\n",
      "Please use alternatives such as official/mnist/dataset.py from tensorflow/models.\n",
      "WARNING:tensorflow:From /anaconda3/lib/python3.6/site-packages/tensorflow/contrib/learn/python/learn/datasets/mnist.py:260: maybe_download (from tensorflow.contrib.learn.python.learn.datasets.base) is deprecated and will be removed in a future version.\n",
      "Instructions for updating:\n",
      "Please write your own downloading logic.\n",
      "WARNING:tensorflow:From /anaconda3/lib/python3.6/site-packages/tensorflow/contrib/learn/python/learn/datasets/mnist.py:262: extract_images (from tensorflow.contrib.learn.python.learn.datasets.mnist) is deprecated and will be removed in a future version.\n",
      "Instructions for updating:\n",
      "Please use tf.data to implement this functionality.\n",
      "Extracting /Users/apple/Desktop/机器学习作业/ML_Lab_NN/data/train-images-idx3-ubyte.gz\n",
      "WARNING:tensorflow:From /anaconda3/lib/python3.6/site-packages/tensorflow/contrib/learn/python/learn/datasets/mnist.py:267: extract_labels (from tensorflow.contrib.learn.python.learn.datasets.mnist) is deprecated and will be removed in a future version.\n",
      "Instructions for updating:\n",
      "Please use tf.data to implement this functionality.\n",
      "Extracting /Users/apple/Desktop/机器学习作业/ML_Lab_NN/data/train-labels-idx1-ubyte.gz\n",
      "WARNING:tensorflow:From /anaconda3/lib/python3.6/site-packages/tensorflow/contrib/learn/python/learn/datasets/mnist.py:110: dense_to_one_hot (from tensorflow.contrib.learn.python.learn.datasets.mnist) is deprecated and will be removed in a future version.\n",
      "Instructions for updating:\n",
      "Please use tf.one_hot on tensors.\n",
      "Extracting /Users/apple/Desktop/机器学习作业/ML_Lab_NN/data/t10k-images-idx3-ubyte.gz\n",
      "Extracting /Users/apple/Desktop/机器学习作业/ML_Lab_NN/data/t10k-labels-idx1-ubyte.gz\n",
      "WARNING:tensorflow:From /anaconda3/lib/python3.6/site-packages/tensorflow/contrib/learn/python/learn/datasets/mnist.py:290: DataSet.__init__ (from tensorflow.contrib.learn.python.learn.datasets.mnist) is deprecated and will be removed in a future version.\n",
      "Instructions for updating:\n",
      "Please use alternatives such as official/mnist/dataset.py from tensorflow/models.\n"
     ]
    }
   ],
   "source": [
    "from __future__ import division, print_function, absolute_import\n",
    "\n",
    "from tensorflow.examples.tutorials.mnist import input_data\n",
    "mnist = input_data.read_data_sets(\"/Users/apple/Desktop/机器学习作业/ML_Lab_NN/data/\", one_hot=True)\n",
    "\n",
    "import tensorflow as tf"
   ]
  },
  {
   "cell_type": "code",
   "execution_count": 2,
   "metadata": {},
   "outputs": [],
   "source": [
    "# Training Parameters\n",
    "learning_rate = 0.001\n",
    "num_steps = 200\n",
    "batch_size = 128\n",
    "display_step = 10\n",
    "\n",
    "# Network Parameters\n",
    "num_input = 784\n",
    "num_classes = 10\n",
    "dropout = 0.75"
   ]
  },
  {
   "cell_type": "code",
   "execution_count": 3,
   "metadata": {},
   "outputs": [],
   "source": [
    "X = tf.placeholder(tf.float32, [None, num_input])\n",
    "Y = tf.placeholder(tf.float32, [None, num_classes])\n",
    "keep_prob = tf.placeholder(tf.float32)"
   ]
  },
  {
   "cell_type": "code",
   "execution_count": 4,
   "metadata": {},
   "outputs": [],
   "source": [
    "def conv2d(x, W, b, strides=1):\n",
    "    # Conv2D wrapper, with bias and relu activation\n",
    "    x = tf.nn.conv2d(x, W, strides=[1, strides, strides, 1], padding='SAME')\n",
    "    x = tf.nn.bias_add(x, b)\n",
    "    return tf.nn.relu(x)"
   ]
  },
  {
   "cell_type": "code",
   "execution_count": 5,
   "metadata": {},
   "outputs": [],
   "source": [
    "def maxpool2d(x, k=2):\n",
    "    # MaxPool2D wrapper\n",
    "    return tf.nn.max_pool(x, ksize=[1, k, k, 1], strides=[1, k, k, 1],\n",
    "                          padding='SAME')"
   ]
  },
  {
   "cell_type": "code",
   "execution_count": 6,
   "metadata": {},
   "outputs": [],
   "source": [
    "def conv_net(x, weights, biases, dropout):\n",
    "    x = tf.reshape(x, shape=[-1, 28, 28, 1])\n",
    "\n",
    "    # Convolution Layer\n",
    "    conv1 = conv2d(x, weights['wc1'], biases['bc1'])\n",
    "    conv1 = maxpool2d(conv1, k=2)\n",
    "\n",
    "    # Convolution Layer\n",
    "    conv2 = conv2d(conv1, weights['wc2'], biases['bc2'])\n",
    "    conv2 = maxpool2d(conv2, k=2)\n",
    "    fc1 = tf.reshape(conv2, [-1, weights['wd1'].get_shape().as_list()[0]])\n",
    "    fc1 = tf.add(tf.matmul(fc1, weights['wd1']), biases['bd1'])\n",
    "    fc1 = tf.nn.relu(fc1)\n",
    "    fc1 = tf.nn.dropout(fc1, dropout)\n",
    "    out = tf.add(tf.matmul(fc1, weights['out']), biases['out'])\n",
    "    return out"
   ]
  },
  {
   "cell_type": "code",
   "execution_count": 7,
   "metadata": {},
   "outputs": [],
   "source": [
    "weights = {\n",
    "    'wc1': tf.Variable(tf.random_normal([5, 5, 1, 32])),\n",
    "    'wc2': tf.Variable(tf.random_normal([5, 5, 32, 64])),\n",
    "    'wd1': tf.Variable(tf.random_normal([7*7*64, 1024])),\n",
    "    'out': tf.Variable(tf.random_normal([1024, num_classes]))\n",
    "}\n",
    "\n",
    "biases = {\n",
    "    'bc1': tf.Variable(tf.random_normal([32])),\n",
    "    'bc2': tf.Variable(tf.random_normal([64])),\n",
    "    'bd1': tf.Variable(tf.random_normal([1024])),\n",
    "    'out': tf.Variable(tf.random_normal([num_classes]))\n",
    "}"
   ]
  },
  {
   "cell_type": "code",
   "execution_count": 8,
   "metadata": {},
   "outputs": [
    {
     "name": "stdout",
     "output_type": "stream",
     "text": [
      "WARNING:tensorflow:From <ipython-input-8-431b342d9791>:7: softmax_cross_entropy_with_logits (from tensorflow.python.ops.nn_ops) is deprecated and will be removed in a future version.\n",
      "Instructions for updating:\n",
      "\n",
      "Future major versions of TensorFlow will allow gradients to flow\n",
      "into the labels input on backprop by default.\n",
      "\n",
      "See `tf.nn.softmax_cross_entropy_with_logits_v2`.\n",
      "\n"
     ]
    }
   ],
   "source": [
    "# Model\n",
    "logits = conv_net(X, weights, biases, keep_prob)\n",
    "prediction = tf.nn.softmax(logits)\n",
    "\n",
    "# Define loss and optimizer\n",
    "loss_op = tf.reduce_mean(tf.nn.softmax_cross_entropy_with_logits(\n",
    "    logits=logits, labels=Y))\n",
    "optimizer = tf.train.AdamOptimizer(learning_rate=learning_rate)\n",
    "train_op = optimizer.minimize(loss_op)"
   ]
  },
  {
   "cell_type": "code",
   "execution_count": 9,
   "metadata": {},
   "outputs": [],
   "source": [
    "correct_pred = tf.equal(tf.argmax(prediction, 1), tf.argmax(Y, 1))\n",
    "accuracy = tf.reduce_mean(tf.cast(correct_pred, tf.float32))"
   ]
  },
  {
   "cell_type": "code",
   "execution_count": 10,
   "metadata": {},
   "outputs": [
    {
     "name": "stdout",
     "output_type": "stream",
     "text": [
      "Step 1, Minibatch Loss= 61275.7031, Training Accuracy= 0.164\n",
      "Step 10, Minibatch Loss= 24297.4375, Training Accuracy= 0.266\n",
      "Step 20, Minibatch Loss= 11658.5859, Training Accuracy= 0.484\n",
      "Step 30, Minibatch Loss= 6517.2231, Training Accuracy= 0.617\n",
      "Step 40, Minibatch Loss= 5123.2793, Training Accuracy= 0.742\n",
      "Step 50, Minibatch Loss= 5052.8047, Training Accuracy= 0.750\n",
      "Step 60, Minibatch Loss= 3443.0840, Training Accuracy= 0.781\n",
      "Step 70, Minibatch Loss= 2497.9575, Training Accuracy= 0.828\n",
      "Step 80, Minibatch Loss= 2957.2646, Training Accuracy= 0.844\n",
      "Step 90, Minibatch Loss= 1546.5166, Training Accuracy= 0.914\n",
      "Step 100, Minibatch Loss= 1935.3900, Training Accuracy= 0.859\n",
      "Step 110, Minibatch Loss= 2125.1665, Training Accuracy= 0.883\n",
      "Step 120, Minibatch Loss= 2219.0205, Training Accuracy= 0.891\n",
      "Step 130, Minibatch Loss= 1081.8143, Training Accuracy= 0.891\n",
      "Step 140, Minibatch Loss= 2032.3396, Training Accuracy= 0.891\n",
      "Step 150, Minibatch Loss= 812.3031, Training Accuracy= 0.914\n",
      "Step 160, Minibatch Loss= 1034.2910, Training Accuracy= 0.898\n",
      "Step 170, Minibatch Loss= 568.5620, Training Accuracy= 0.953\n",
      "Step 180, Minibatch Loss= 1608.5171, Training Accuracy= 0.922\n",
      "Step 190, Minibatch Loss= 1425.7738, Training Accuracy= 0.906\n",
      "Step 200, Minibatch Loss= 880.9351, Training Accuracy= 0.945\n",
      "Optimization Finished!\n",
      "Testing Accuracy: 0.94140625\n"
     ]
    }
   ],
   "source": [
    "init = tf.global_variables_initializer()\n",
    "\n",
    "# Start training\n",
    "with tf.Session() as sess:\n",
    "    sess.run(init)\n",
    "\n",
    "    for step in range(1, num_steps+1):\n",
    "        batch_x, batch_y = mnist.train.next_batch(batch_size)\n",
    "        sess.run(train_op, feed_dict={X: batch_x, Y: batch_y, keep_prob: 0.8})\n",
    "        if step % display_step == 0 or step == 1:\n",
    "            loss, acc = sess.run([loss_op, accuracy], feed_dict={X: batch_x,\n",
    "                                                                 Y: batch_y,\n",
    "                                                                 keep_prob: 1.0})\n",
    "            print(\"Step \" + str(step) + \", Minibatch Loss= \" + \\\n",
    "                  \"{:.4f}\".format(loss) + \", Training Accuracy= \" + \\\n",
    "                  \"{:.3f}\".format(acc))\n",
    "\n",
    "    print(\"Optimization Finished!\")\n",
    "\n",
    "    print(\"Testing Accuracy:\", \\\n",
    "        sess.run(accuracy, feed_dict={X: mnist.test.images[:256],\n",
    "                                      Y: mnist.test.labels[:256],\n",
    "                                      keep_prob: 1.0}))"
   ]
  },
  {
   "cell_type": "code",
   "execution_count": 11,
   "metadata": {},
   "outputs": [],
   "source": [
    "summary_writer = tf.summary.FileWriter(\"/Users/apple/Desktop/机器学习作业/ML_Lab_NN/data/log/\", sess.graph)\n",
    "summary_writer.close()"
   ]
  },
  {
   "cell_type": "markdown",
   "metadata": {},
   "source": [
    "**Reference:https://colab.research.google.com\n",
    "  PreLab NN and github**"
   ]
  },
  {
   "cell_type": "markdown",
   "metadata": {},
   "source": [
    "![title](graph_large_attrs_key.png)"
   ]
  },
  {
   "cell_type": "markdown",
   "metadata": {},
   "source": [
    "<img src=\"1.png\" width=\"40%\">\n",
    "<img src=\"2.png\" width=\"40%\">\n",
    "<img src=\"3.png\" width=\"40%\">\n",
    "<img src=\"4.png\" width=\"40%\">\n",
    "<img src=\"5.png\" width=\"40%\">\n",
    "<img src=\"6.png\" width=\"40%\">"
   ]
  },
  {
   "cell_type": "code",
   "execution_count": 21,
   "metadata": {},
   "outputs": [
    {
     "data": {
      "image/png": "[encoded data removed]",
      "text/plain": [
       "<Figure size 432x288 with 1 Axes>"
      ]
     },
     "metadata": {},
     "output_type": "display_data"
    }
   ],
   "source": [
    "import os\n",
    "import numpy as np\n",
    "import matplotlib.pyplot as plt\n",
    "plt.rcdefaults()\n",
    "from matplotlib.lines import Line2D\n",
    "from matplotlib.patches import Rectangle\n",
    "from matplotlib.collections import PatchCollection\n",
    "%matplotlib inline\n",
    "\n",
    "NumConvMax = 8\n",
    "NumFcMax = 20\n",
    "White = 1.\n",
    "Light = 0.7\n",
    "Medium = 0.5\n",
    "Dark = 0.3\n",
    "Black = 0.\n",
    "\n",
    "\n",
    "def add_layer(patches, colors, size=24, num=5,\n",
    "              top_left=[0, 0],\n",
    "              loc_diff=[3, -3],\n",
    "              ):\n",
    "    # add a rectangle\n",
    "    top_left = np.array(top_left)\n",
    "    loc_diff = np.array(loc_diff)\n",
    "    loc_start = top_left - np.array([0, size])\n",
    "    for ind in range(num):\n",
    "        patches.append(Rectangle(loc_start + ind * loc_diff, size, size))\n",
    "        if ind % 2:\n",
    "            colors.append(Medium)\n",
    "        else:\n",
    "            colors.append(Light)\n",
    "\n",
    "\n",
    "def add_mapping(patches, colors, start_ratio, patch_size, ind_bgn,\n",
    "                top_left_list, loc_diff_list, num_show_list, size_list):\n",
    "\n",
    "    start_loc = top_left_list[ind_bgn] \\\n",
    "        + (num_show_list[ind_bgn] - 1) * np.array(loc_diff_list[ind_bgn]) \\\n",
    "        + np.array([start_ratio[0] * size_list[ind_bgn],\n",
    "                    -start_ratio[1] * size_list[ind_bgn]])\n",
    "\n",
    "    end_loc = top_left_list[ind_bgn + 1] \\\n",
    "        + (num_show_list[ind_bgn + 1] - 1) \\\n",
    "        * np.array(loc_diff_list[ind_bgn + 1]) \\\n",
    "        + np.array([(start_ratio[0] + .5 * patch_size / size_list[ind_bgn]) *\n",
    "                    size_list[ind_bgn + 1],\n",
    "                    -(start_ratio[1] - .5 * patch_size / size_list[ind_bgn]) *\n",
    "                    size_list[ind_bgn + 1]])\n",
    "\n",
    "    patches.append(Rectangle(start_loc, patch_size, patch_size))\n",
    "    colors.append(Dark)\n",
    "    patches.append(Line2D([start_loc[0], end_loc[0]],\n",
    "                          [start_loc[1], end_loc[1]]))\n",
    "    colors.append(Black)\n",
    "    patches.append(Line2D([start_loc[0] + patch_size, end_loc[0]],\n",
    "                          [start_loc[1], end_loc[1]]))\n",
    "    colors.append(Black)\n",
    "    patches.append(Line2D([start_loc[0], end_loc[0]],\n",
    "                          [start_loc[1] + patch_size, end_loc[1]]))\n",
    "    colors.append(Black)\n",
    "    patches.append(Line2D([start_loc[0] + patch_size, end_loc[0]],\n",
    "                          [start_loc[1] + patch_size, end_loc[1]]))\n",
    "    colors.append(Black)\n",
    "\n",
    "\n",
    "def label(xy, text, xy_off=[0, 4]):\n",
    "    plt.text(xy[0] + xy_off[0], xy[1] + xy_off[1], text,\n",
    "             family='sans-serif', size=8)\n",
    "\n",
    "\n",
    "if __name__ == '__main__':\n",
    "\n",
    "    fc_unit_size = 2\n",
    "    layer_width = 40\n",
    "\n",
    "    patches = []\n",
    "    colors = []\n",
    "\n",
    "    fig, ax = plt.subplots()\n",
    "\n",
    "\n",
    "    size_list = [28, 14, 14, 7, 7]\n",
    "    num_list = [1, 32, 32, 64, 64]\n",
    "    x_diff_list = [0, layer_width, layer_width, layer_width, layer_width]\n",
    "    text_list = ['Inputs'] + ['Feature\\nmaps'] * (len(size_list) - 1)\n",
    "    loc_diff_list = [[3, -3]] * len(size_list)\n",
    "\n",
    "    num_show_list = list(map(min, num_list, [NumConvMax] * len(num_list)))\n",
    "    top_left_list = np.c_[np.cumsum(x_diff_list), np.zeros(len(x_diff_list))]\n",
    "\n",
    "    for ind in range(len(size_list)):\n",
    "        add_layer(patches, colors, size=size_list[ind],\n",
    "                  num=num_show_list[ind],\n",
    "                  top_left=top_left_list[ind], loc_diff=loc_diff_list[ind])\n",
    "        label(top_left_list[ind], text_list[ind] + '\\n{}@{}x{}'.format(\n",
    "            num_list[ind], size_list[ind], size_list[ind]))\n",
    "\n",
    "\n",
    "    start_ratio_list = [[0.4, 0.5], [0.4, 0.8], [0.4, 0.5], [0.4, 0.8]]\n",
    "    patch_size_list = [5, 2, 5, 2]\n",
    "    ind_bgn_list = range(len(patch_size_list))\n",
    "    text_list = ['Convolution', 'Max-pooling', 'Convolution', 'Max-pooling']\n",
    "\n",
    "    for ind in range(len(patch_size_list)):\n",
    "        add_mapping(patches, colors, start_ratio_list[ind],\n",
    "                    patch_size_list[ind], ind,\n",
    "                    top_left_list, loc_diff_list, num_show_list, size_list)\n",
    "        label(top_left_list[ind], text_list[ind] + '\\n{}x{} kernel'.format(\n",
    "            patch_size_list[ind], patch_size_list[ind]), xy_off=[26, -65])\n",
    "\n",
    "\n",
    "    size_list = [fc_unit_size, fc_unit_size, fc_unit_size]\n",
    "    num_list = [1024, 1024, 1]\n",
    "    num_show_list = list(map(min, num_list, [NumFcMax] * len(num_list)))\n",
    "    x_diff_list = [sum(x_diff_list) + layer_width, layer_width, layer_width]\n",
    "    top_left_list = np.c_[np.cumsum(x_diff_list), np.zeros(len(x_diff_list))]\n",
    "    loc_diff_list = [[fc_unit_size, -fc_unit_size]] * len(top_left_list)\n",
    "    text_list = ['Hidden\\nunits'] * (len(size_list) - 1) + ['Outputs']\n",
    "\n",
    "    for ind in range(len(size_list)):\n",
    "        add_layer(patches, colors, size=size_list[ind], num=num_show_list[ind],\n",
    "                  top_left=top_left_list[ind], loc_diff=loc_diff_list[ind])\n",
    "        label(top_left_list[ind], text_list[ind] + '\\n{}'.format(\n",
    "            num_list[ind]))\n",
    "\n",
    "    text_list = ['Flatten\\n', 'Fully\\nconnected', 'Fully\\nconnected']\n",
    "\n",
    "    for ind in range(len(size_list)):\n",
    "        label(top_left_list[ind], text_list[ind], xy_off=[-10, -65])\n",
    "\n",
    "    colors += [0, 1]\n",
    "    collection = PatchCollection(patches, cmap=plt.cm.gray)\n",
    "    collection.set_array(np.array(colors))\n",
    "    ax.add_collection(collection)\n",
    "    plt.tight_layout()\n",
    "    plt.axis('equal')\n",
    "    plt.axis('off')\n",
    "    plt.show()\n",
    "    fig.set_size_inches(8, 2.5)\n",
    "\n",
    "    fig_dir = './'\n",
    "    fig_ext = '.png'\n",
    "    fig.savefig(os.path.join(fig_dir, 'convnet_fig' + fig_ext),\n",
    "bbox_inches='tight', pad_inches=0)"
   ]
  },
  {
   "cell_type": "markdown",
   "metadata": {},
   "source": [
    "##### Reference：https://blog.csdn.net/u013719780/article/details/53197462"
   ]
  },
  {
   "cell_type": "markdown",
   "metadata": {},
   "source": [
    "NN's Accuracy is 0.9371 and CNN's Accuracy is 0.94140625 which is better than NN. The layer structure of NN is one-dimensional, and the layer structure of CNN is high-dimensional. NN deals with \"linear\" data, and CNN is intuitively more suitable for \"structural\" data. Fully connection will lead to some unreasonable result when dealing with figure. In the other hand, the point in figure almost only related to nearby point so i think thats why CNN is better than NN."
   ]
  }
 ],
 "metadata": {
  "kernelspec": {
   "display_name": "Python 3",
   "language": "python",
   "name": "python3"
  },
  "language_info": {
   "codemirror_mode": {
    "name": "ipython",
    "version": 3
   },
   "file_extension": ".py",
   "mimetype": "text/x-python",
   "name": "python",
   "nbconvert_exporter": "python",
   "pygments_lexer": "ipython3",
   "version": "3.6.4"
  }
 },
 "nbformat": 4,
 "nbformat_minor": 2
}
